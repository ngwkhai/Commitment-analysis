{
 "cells": [
  {
   "cell_type": "markdown",
   "metadata": {},
   "source": [
    "# Request vercel API\n",
    "![purple-divider](https://user-images.githubusercontent.com/7065401/52071927-c1cd7100-2562-11e9-908a-dde91ba14e59.png)"
   ]
  },
  {
   "cell_type": "markdown",
   "metadata": {},
   "source": [
    "### Import library"
   ]
  },
  {
   "cell_type": "code",
   "metadata": {},
   "source": [
    "from github import Github\n",
    "import os\n",
    "import pandas as pd\n",
    "import matplotlib.pyplot as plt\n",
    "from collections import Counter"
   ],
   "outputs": [],
   "execution_count": null
  },
  {
   "cell_type": "markdown",
   "metadata": {},
   "source": [
    "## Bước 1: Chọn repo trên Github"
   ]
  },
  {
   "cell_type": "markdown",
   "metadata": {},
   "source": [
    "### Kết nối tới repo"
   ]
  },
  {
   "cell_type": "code",
   "metadata": {},
   "source": [
    "g = Github(\"\")\n",
    "repo_owner = 'vercel'\n",
    "repo_name = 'vercel'"
   ],
   "outputs": [],
   "execution_count": null
  },
  {
   "cell_type": "markdown",
   "metadata": {},
   "source": [
    "### Lấy thông tin repo"
   ]
  },
  {
   "cell_type": "code",
   "metadata": {},
   "source": [
    "repo = g.get_repo(f\"{repo_owner}/{repo_name}\")"
   ],
   "outputs": [],
   "execution_count": null
  },
  {
   "cell_type": "markdown",
   "metadata": {},
   "source": [
    "## Bước 2: Thu thập dữ liệu"
   ]
  },
  {
   "cell_type": "markdown",
   "metadata": {},
   "source": [
    "##### Lấy danh sách commits"
   ]
  },
  {
   "cell_type": "code",
   "metadata": {},
   "source": [
    "prs = repo.get_commits()"
   ],
   "outputs": [],
   "execution_count": null
  },
  {
   "cell_type": "markdown",
   "metadata": {},
   "source": [
    "### Tạo danh sách lưu chữ thông tin về commits"
   ]
  },
  {
   "cell_type": "code",
   "metadata": {},
   "source": [
    "commit_data = []\n",
    "\n",
    "for pr in prs:\n",
    "    print(pr.last_modified_datetime)\n",
    "    commit_info = {\n",
    "        \"sha\": pr.sha,\n",
    "        \"author\": pr.commit.author.name,\n",
    "        \"author_date\": pr.commit.author.date,\n",
    "        \"committer\": pr.commit.committer.name,\n",
    "        \"committer_date\": pr.commit.committer.date,\n",
    "        \"message\": pr.commit.message,\n",
    "    }\n",
    "    commit_data.append(commit_info)"
   ],
   "outputs": [],
   "execution_count": null
  },
  {
   "cell_type": "markdown",
   "metadata": {},
   "source": [
    "## Bước 3: Làm sạch vè tiền xử lý dữ liệu"
   ]
  },
  {
   "cell_type": "markdown",
   "metadata": {},
   "source": [
    "### Chuyển đổi danh sách thành DataFrame và lưu vào data"
   ]
  },
  {
   "cell_type": "code",
   "metadata": {},
   "source": [
    "data_dir = '../data'\n",
    "csv_file = os.path.join(data_dir, 'commits_data.csv')\n",
    "\n",
    "df_commits = pd.DataFrame(commit_data)\n",
    "df_commits.to_csv(csv_file, index=False)\n",
    "\n",
    "print(df_commits.head())"
   ],
   "outputs": [],
   "execution_count": null
  },
  {
   "cell_type": "markdown",
   "metadata": {},
   "source": [
    "### Làm sạch dữ liệu\n",
    "\n",
    "##### Kiểm tra thông tin còn thiếu"
   ]
  },
  {
   "cell_type": "code",
   "metadata": {},
   "source": [
    "print(df_commits.isnull().sum())"
   ],
   "outputs": [],
   "execution_count": null
  },
  {
   "cell_type": "markdown",
   "metadata": {},
   "source": [
    "##### Xử lý dữ liệu thiếu"
   ]
  },
  {
   "cell_type": "code",
   "metadata": {},
   "source": [
    "df_commits = df_commits.dropna()"
   ],
   "outputs": [],
   "execution_count": null
  },
  {
   "cell_type": "markdown",
   "metadata": {},
   "source": [
    "##### Kiểm tra lại dữ liệu"
   ]
  },
  {
   "cell_type": "code",
   "metadata": {},
   "source": [
    "print(df_commits.isnull().sum())"
   ],
   "outputs": [],
   "execution_count": null
  },
  {
   "cell_type": "markdown",
   "metadata": {},
   "source": [
    "##### Kiểm tra dữ liệu trùng lặp"
   ]
  },
  {
   "cell_type": "code",
   "metadata": {},
   "source": [
    "print(df_commits.duplicated().sum())"
   ],
   "outputs": [],
   "execution_count": null
  },
  {
   "cell_type": "markdown",
   "metadata": {},
   "source": [
    "##### Loại bỏ các hàng trùng lặp"
   ]
  },
  {
   "cell_type": "code",
   "metadata": {},
   "source": [
    "df_commits = df_commits.drop_duplicates()"
   ],
   "outputs": [],
   "execution_count": null
  },
  {
   "cell_type": "markdown",
   "metadata": {},
   "source": [
    "##### Kiểm tra và lưu lại dữ liệu sau khi làm sạch"
   ]
  },
  {
   "cell_type": "code",
   "metadata": {},
   "source": [
    "print(df_commits.duplicated().sum())\n",
    "\n",
    "csv_file = os.path.join(data_dir, 'commits_data_cleaned.csv')\n",
    "df_commits.to_csv(csv_file, index=False)"
   ],
   "outputs": [],
   "execution_count": null
  },
  {
   "cell_type": "markdown",
   "metadata": {},
   "source": [
    "### Tiền xử lý dữ liệu"
   ]
  },
  {
   "cell_type": "markdown",
   "metadata": {},
   "source": [
    "#### Lọc dữ liệu để chỉ bao gồm commits trong năm 2023"
   ]
  },
  {
   "cell_type": "code",
   "metadata": {},
   "source": [
    "df_2023 = pd.DataFrame(df_commits[df_commits['author_date'].dt.year == 2023])\n",
    "\n",
    "print(df_2023.head())"
   ],
   "outputs": [],
   "execution_count": null
  },
  {
   "cell_type": "markdown",
   "metadata": {},
   "source": [
    "##### Chuyển đổi cột 'author_date' và 'committer_date' thành định dạng datetime"
   ]
  },
  {
   "cell_type": "code",
   "metadata": {},
   "source": [
    "df_2023['author_date'] = pd.to_datetime(df_2023['author_date'])\n",
    "df_2023['committer_date'] = pd.to_datetime(df_2023['committer_date'])\n",
    "\n",
    "print(df_2023.dtypes)"
   ],
   "outputs": [],
   "execution_count": null
  },
  {
   "cell_type": "markdown",
   "metadata": {},
   "source": [
    "##### Thêm cột 'year', 'month' để phân tích theo thời gian"
   ]
  },
  {
   "cell_type": "code",
   "metadata": {},
   "source": [
    "df_2023['year'] = df_2023['author_date'].dt.year\n",
    "df_2023['month'] = df_2023['author_date'].dt.month\n"
   ],
   "outputs": [],
   "execution_count": null
  },
  {
   "cell_type": "markdown",
   "metadata": {},
   "source": [
    "##### Lưu trữ lại DataFrame sau khi tiền xử lý"
   ]
  },
  {
   "cell_type": "code",
   "metadata": {},
   "source": [
    "csv_file = os.path.join(data_dir, 'commits_data_preprocessed.csv')\n",
    "df_2023.to_csv(csv_file, index=False)\n",
    "print(df_2023.head())"
   ],
   "outputs": [],
   "execution_count": null
  },
  {
   "cell_type": "markdown",
   "metadata": {},
   "source": [
    "## Bước 4 & 5: Phân tích và trực quan hoá dữ liệu"
   ]
  },
  {
   "cell_type": "code",
   "metadata": {},
   "source": [
    "plots_dir = '../plots'"
   ],
   "outputs": [],
   "execution_count": null
  },
  {
   "cell_type": "markdown",
   "metadata": {},
   "source": [
    "### 1. Phân tích số lượng commits theo tháng trong năm 2023"
   ]
  },
  {
   "cell_type": "markdown",
   "metadata": {},
   "source": [
    "##### Xác định số lượng commits theo tháng"
   ]
  },
  {
   "cell_type": "code",
   "metadata": {},
   "source": [
    "commits_per_month_2023 = df_2023.groupby(df_2023['author_date'].dt.month).size()\n",
    "print(commits_per_month_2023)"
   ],
   "outputs": [],
   "execution_count": null
  },
  {
   "cell_type": "markdown",
   "metadata": {},
   "source": [
    "##### Trực quan hóa số lượng commits theo tháng trong năm 2023"
   ]
  },
  {
   "cell_type": "code",
   "metadata": {},
   "source": [
    "plt.figure(figsize=(10, 6))\n",
    "plt.plot(commits_per_month_2023.index, commits_per_month_2023.values, marker='o')\n",
    "plt.title('Number of Commits per Month in 2023')\n",
    "plt.xlabel('Month')\n",
    "plt.ylabel('Number of Commits')\n",
    "plt.xticks(commits_per_month_2023.index)\n",
    "plt.grid(True)\n",
    "plot_file = os.path.join(plots_dir, 'commits_per_month.png')\n",
    "plt.savefig(plot_file)\n",
    "plt.show()\n",
    "plt.close()"
   ],
   "outputs": [],
   "execution_count": null
  },
  {
   "cell_type": "markdown",
   "metadata": {},
   "source": [
    "### 2. Phân tích số lượng commits theo ngày trong tuần trong năm 2023"
   ]
  },
  {
   "cell_type": "markdown",
   "metadata": {},
   "source": [
    "##### Tạo cột 'day_of_week' để lưu thông tin ngày trong tuần (0: Monday, 6: Sunday)"
   ]
  },
  {
   "cell_type": "code",
   "metadata": {},
   "source": [
    "df_2023['day_of_week'] = df_2023['author_date'].dt.dayofweek"
   ],
   "outputs": [],
   "execution_count": null
  },
  {
   "cell_type": "markdown",
   "metadata": {},
   "source": [
    "##### Tính số lượng commits và đặt tên cho các ngày trong tuần"
   ]
  },
  {
   "cell_type": "code",
   "metadata": {},
   "source": [
    "commits_per_day_of_week = df_2023['day_of_week'].value_counts().sort_index()\n",
    "day_names = ['Monday', 'Tuesday', 'Wednesday', 'Thursday', 'Friday', 'Saturday', 'Sunday']\n",
    "commits_per_day_of_week.index = day_names"
   ],
   "outputs": [],
   "execution_count": null
  },
  {
   "cell_type": "markdown",
   "metadata": {},
   "source": [
    "##### Vẽ biểu đồ số lượng commits theo ngày trong tuần"
   ]
  },
  {
   "cell_type": "code",
   "metadata": {},
   "source": [
    "plt.figure(figsize=(10, 6))\n",
    "plt.bar(commits_per_day_of_week.index, commits_per_day_of_week.values, color='skyblue')\n",
    "plt.title('Number of Commits per Day of the Week in 2023')\n",
    "plt.xlabel('Day of the Week')\n",
    "plt.ylabel('Number of Commits')\n",
    "plt.grid(axis='y')\n",
    "plot_file = os.path.join(plots_dir, 'commits_per_day.png')\n",
    "plt.savefig(plot_file)\n",
    "plt.show()\n",
    "plt.close()"
   ],
   "outputs": [],
   "execution_count": null
  },
  {
   "cell_type": "markdown",
   "metadata": {},
   "source": [
    "### 3. Phân tích số lượng commits theo giờ trong ngày trong năm 2023"
   ]
  },
  {
   "cell_type": "markdown",
   "metadata": {},
   "source": [
    "##### Tạo cột 'hour_of_day' để lưu thông tin giờ trong ngày (0-23)"
   ]
  },
  {
   "cell_type": "code",
   "metadata": {},
   "source": [
    "df_2023['hour_of_day'] = df_2023['author_date'].dt.hour"
   ],
   "outputs": [],
   "execution_count": null
  },
  {
   "cell_type": "markdown",
   "metadata": {},
   "source": [
    "##### Tính số lượng commits cho mỗi giờ trong ngày"
   ]
  },
  {
   "cell_type": "code",
   "metadata": {},
   "source": [
    "commits_per_hour = df_2023['hour_of_day'].value_counts().sort_index()"
   ],
   "outputs": [],
   "execution_count": null
  },
  {
   "cell_type": "markdown",
   "metadata": {},
   "source": [
    "##### Vẽ biểu đồ số lượng commits theo giờ trong ngày"
   ]
  },
  {
   "cell_type": "code",
   "metadata": {},
   "source": [
    "plt.figure(figsize=(10, 6))\n",
    "plt.bar(commits_per_hour.index, commits_per_hour.values, color='skyblue')\n",
    "plt.title('Number of Commits per Hour of the Day')\n",
    "plt.xlabel('Hour of the Day')\n",
    "plt.ylabel('Number of Commits')\n",
    "plt.xticks(range(24))\n",
    "plt.grid(axis='y')\n",
    "plot_file = os.path.join(plots_dir, 'commits_per_hour.png')\n",
    "plt.savefig(plot_file)\n",
    "plt.show()\n",
    "plt.close()"
   ],
   "outputs": [],
   "execution_count": null
  },
  {
   "cell_type": "markdown",
   "metadata": {},
   "source": [
    "### 4. Phân tích tần suất commits của các tác giả trong năm 2023"
   ]
  },
  {
   "cell_type": "markdown",
   "metadata": {},
   "source": [
    "##### Xác định tần suất commits của các tác giả trong năm 2023"
   ]
  },
  {
   "cell_type": "code",
   "metadata": {},
   "source": [
    "commits_per_author_2023 = df_2023['author'].value_counts()\n",
    "print(commits_per_author_2023.head(10))"
   ],
   "outputs": [],
   "execution_count": null
  },
  {
   "cell_type": "markdown",
   "metadata": {},
   "source": [
    "##### Trực quan hóa tần suất commits của các tác giả trong năm 2023"
   ]
  },
  {
   "cell_type": "code",
   "metadata": {},
   "source": [
    "plt.figure(figsize=(10, 6))\n",
    "plt.bar(commits_per_author_2023.index[:10], commits_per_author_2023.values[:10], color='skyblue')\n",
    "plt.title('Top 10 Authors by Number of Commits in 2023')\n",
    "plt.xlabel('Author')\n",
    "plt.ylabel('Number of Commits')\n",
    "plt.xticks(rotation=45, ha='right')\n",
    "plt.tight_layout()\n",
    "plot_file = os.path.join(plots_dir, 'top_author_commits.png')\n",
    "plt.savefig(plot_file)\n",
    "plt.show()\n",
    "plt.close()"
   ],
   "outputs": [],
   "execution_count": null
  },
  {
   "cell_type": "markdown",
   "metadata": {},
   "source": "### 5. Phân tích tần suất các từ khoá quan trọng"
  },
  {
   "cell_type": "markdown",
   "metadata": {},
   "source": [
    "##### Tạo một danh sách các từ khóa quan trọng cần phân tích"
   ]
  },
  {
   "cell_type": "code",
   "metadata": {},
   "source": [
    "keywords = [\"fix\", \"add\", \"update\", \"remove\", \"rename\", \"refactor\", \"test\", \"merge\", \"release\", \"build\"]"
   ],
   "outputs": [],
   "execution_count": null
  },
  {
   "cell_type": "markdown",
   "metadata": {},
   "source": [
    "##### Đếm tần suất các từ khóa trong commit message"
   ]
  },
  {
   "cell_type": "code",
   "metadata": {},
   "source": [
    "def count_keywords(message, keywords):\n",
    "    message = message.lower()\n",
    "    return {keyword: message.count(keyword) for keyword in keywords}\n",
    "\n",
    "df_2023['keyword_counts'] = df_2023['message'].apply(lambda x: count_keywords(x, keywords))"
   ],
   "outputs": [],
   "execution_count": null
  },
  {
   "cell_type": "markdown",
   "metadata": {},
   "source": [
    "##### Tổng hợp tần suất các từ khóa"
   ]
  },
  {
   "cell_type": "code",
   "metadata": {},
   "source": [
    "keyword_totals = Counter()\n",
    "for counts in df_2023['keyword_counts']:\n",
    "    keyword_totals.update(counts)"
   ],
   "outputs": [],
   "execution_count": null
  },
  {
   "cell_type": "markdown",
   "metadata": {},
   "source": [
    "##### Trực quan hóa tần suất các từ khóa"
   ]
  },
  {
   "cell_type": "code",
   "metadata": {},
   "source": [
    "plt.figure(figsize=(10, 6))\n",
    "plt.bar(keyword_totals.keys(), keyword_totals.values(), color='skyblue')\n",
    "plt.title('Frequency of Keywords in Commit Messages')\n",
    "plt.xlabel('Keyword')\n",
    "plt.ylabel('Frequency')\n",
    "plot_file = os.path.join(plots_dir, 'frequency_keywords.png')\n",
    "plt.savefig(plot_file)\n",
    "plt.show()\n",
    "plt.close()\n"
   ],
   "outputs": [],
   "execution_count": null
  },
  {
   "cell_type": "markdown",
   "metadata": {},
   "source": [
    "### 6. Phần tích độ dài của các message"
   ]
  },
  {
   "cell_type": "markdown",
   "metadata": {},
   "source": [
    "##### Tính độ dài của mỗi commit message và độ dài trung bình"
   ]
  },
  {
   "cell_type": "code",
   "metadata": {},
   "source": [
    "df_2023['message_length'] = df_2023['message'].apply(len)\n",
    "\n",
    "average_length = df_2023['message_length'].mean()\n",
    "print(f\"Average commit message length: {average_length:.2f} characters\")"
   ],
   "outputs": [],
   "execution_count": null
  },
  {
   "cell_type": "markdown",
   "metadata": {},
   "source": [
    "##### Trực quan hóa phân phối độ dài của commit message"
   ]
  },
  {
   "cell_type": "code",
   "metadata": {},
   "source": [
    "plt.figure(figsize=(10, 6))\n",
    "plt.hist(df_2023['message_length'], bins=30, color='skyblue', edgecolor='black')\n",
    "plt.axvline(average_length, color='red', linestyle='dashed', linewidth=1, label=f'Mean: {average_length:.2f} chars')\n",
    "plt.title('Distribution of Commit Message Lengths')\n",
    "plt.xlabel('Message Length (characters)')\n",
    "plt.ylabel('Frequency')\n",
    "plt.legend()\n",
    "plot_file = os.path.join(plots_dir, 'commits_lengths.png')\n",
    "plt.savefig(plot_file)\n",
    "plt.show()\n",
    "plt.close()\n"
   ],
   "outputs": [],
   "execution_count": null
  },
  {
   "cell_type": "markdown",
   "metadata": {},
   "source": [
    "### 7. Phân tích xu hướng nội dung commit theo tháng"
   ]
  },
  {
   "cell_type": "markdown",
   "metadata": {},
   "source": [
    "##### Chuyển cột 'author_date' sang chỉ chứa tháng và năm"
   ]
  },
  {
   "cell_type": "code",
   "metadata": {},
   "source": [
    "df_2023['month_year'] = df_2023['author_date'].dt.strftime('%Y-%m')"
   ],
   "outputs": [],
   "execution_count": null
  },
  {
   "cell_type": "markdown",
   "metadata": {},
   "source": [
    "##### Tính tần suất từ khóa theo tháng"
   ]
  },
  {
   "cell_type": "code",
   "metadata": {},
   "source": [
    "keyword_trends = {keyword: [] for keyword in keywords}\n",
    "dates = sorted(df_2023['month_year'].unique())\n",
    "\n",
    "for date in dates:\n",
    "    df_month = df_2023[df_2023['month_year'] == date]\n",
    "    monthly_counts = Counter()\n",
    "    for counts in df_month['keyword_counts']:\n",
    "        monthly_counts.update(counts)\n",
    "    for keyword in keywords:\n",
    "        keyword_trends[keyword].append(monthly_counts[keyword])"
   ],
   "outputs": [],
   "execution_count": null
  },
  {
   "cell_type": "markdown",
   "metadata": {},
   "source": [
    "##### Trực quan hóa xu hướng từ khóa theo tháng"
   ]
  },
  {
   "cell_type": "code",
   "metadata": {},
   "source": [
    "plt.figure(figsize=(12, 6))\n",
    "for keyword in keywords:\n",
    "    plt.plot(dates, keyword_trends[keyword], marker='o', label=keyword)\n",
    "\n",
    "plt.title('Keyword Trends in Commit Messages Over Time')\n",
    "plt.xlabel('Time (Month-Year)')\n",
    "plt.ylabel('Frequency')\n",
    "plt.legend()\n",
    "plt.grid(True)\n",
    "plot_file = os.path.join(plots_dir, 'keywords_trends_commits.png')\n",
    "plt.savefig(plot_file)\n",
    "plt.show()\n",
    "plt.close()\n"
   ],
   "outputs": [],
   "execution_count": null
  }
 ],
 "metadata": {
  "kernelspec": {
   "display_name": "Python 3",
   "language": "python",
   "name": "python3"
  },
  "language_info": {
   "codemirror_mode": {
    "name": "ipython",
    "version": 3
   },
   "file_extension": ".py",
   "mimetype": "text/x-python",
   "name": "python",
   "nbconvert_exporter": "python",
   "pygments_lexer": "ipython3",
   "version": "3.10.13"
  }
 },
 "nbformat": 4,
 "nbformat_minor": 2
}
